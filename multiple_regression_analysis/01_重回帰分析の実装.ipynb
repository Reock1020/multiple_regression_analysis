{
 "cells": [
  {
   "cell_type": "markdown",
   "metadata": {},
   "source": [
    "# 行列演算の基礎"
   ]
  },
  {
   "cell_type": "code",
   "execution_count": 3,
   "metadata": {},
   "outputs": [],
   "source": [
    "import numpy as np\n",
    "\n",
    "#ベクトルの定義\n",
    "x = np.array([[1],[2],[3]])\n",
    "\n",
    "#行列の定義\n",
    "X = np.array([[1,2],[3,4]])\n",
    "\n",
    "#転置\n",
    "Xt = X.T\n",
    "\n",
    "#逆行列\n",
    "X_inv = np.linalg.inv(X)\n",
    "\n",
    "#行列積\n",
    "XX_inv = np.dot(X,X_inv)"
   ]
  },
  {
   "cell_type": "markdown",
   "metadata": {},
   "source": [
    "# よくある間違い"
   ]
  },
  {
   "cell_type": "code",
   "execution_count": 5,
   "metadata": {},
   "outputs": [
    {
     "name": "stdout",
     "output_type": "stream",
     "text": [
      "[1 2 3]\n",
      "[[1]\n",
      " [2]\n",
      " [3]]\n"
     ]
    }
   ],
   "source": [
    "#転置のやり方\n",
    "a = np.array([1,2,3])\n",
    "a = a.T\n",
    "b = np.array([[1,2,3]])\n",
    "b = b.T\n",
    "print(a)\n",
    "print(b)"
   ]
  },
  {
   "cell_type": "markdown",
   "metadata": {},
   "source": [
    "# Numpyでよく使う処理\n"
   ]
  },
  {
   "cell_type": "code",
   "execution_count": 9,
   "metadata": {},
   "outputs": [
    {
     "name": "stdout",
     "output_type": "stream",
     "text": [
      "4\n",
      "[1 2]\n",
      "--\n",
      "[3 4]\n",
      "--\n"
     ]
    }
   ],
   "source": [
    "#行と列の数\n",
    "row,col = X.shape\n",
    "print(row+col)\n",
    "for x in X:\n",
    "    print(x)\n",
    "    print('--')"
   ]
  },
  {
   "cell_type": "markdown",
   "metadata": {},
   "source": [
    "# 演習"
   ]
  },
  {
   "cell_type": "code",
   "execution_count": 17,
   "metadata": {},
   "outputs": [
    {
     "data": {
      "text/plain": [
       "array([[-0.14285714],\n",
       "       [ 0.71428571],\n",
       "       [ 0.57142857]])"
      ]
     },
     "execution_count": 17,
     "metadata": {},
     "output_type": "execute_result"
    }
   ],
   "source": [
    "X = np.array([[1,2,3],\n",
    "             [1,2,5],\n",
    "              [1,3,4],\n",
    "              [1,5,9]\n",
    "             ])\n",
    "Y = np.array([\n",
    "    [1],\n",
    "    [5],\n",
    "    [6],\n",
    "    [8]\n",
    "])\n",
    "\n",
    "Xt = X.T\n",
    "XtX = np.dot(Xt,X)\n",
    "XtX_inv = np.linalg.inv(XtX)\n",
    "\n",
    "\n",
    "XtY = np.dot(Xt,Y)\n",
    "w = np.dot(XtX_inv,XtY)\n",
    "w"
   ]
  },
  {
   "cell_type": "markdown",
   "metadata": {},
   "source": [
    "# Scikit-learnで実装\n"
   ]
  },
  {
   "cell_type": "code",
   "execution_count": 21,
   "metadata": {},
   "outputs": [
    {
     "data": {
      "text/plain": [
       "0.6923076923076925"
      ]
     },
     "execution_count": 21,
     "metadata": {},
     "output_type": "execute_result"
    }
   ],
   "source": [
    "import sklearn\n",
    "from sklearn.linear_model import LinearRegression\n",
    "\n",
    "#モデルの宣言\n",
    "model = LinearRegression()\n",
    "\n",
    "#モデルの学習←パラメータの調整\n",
    "model.fit(X,Y)\n",
    "\n",
    "#調整後のパラメータ\n",
    "model.coef_\n",
    "\n",
    "#予測精度←決定係数\n",
    "model.score(X,Y)"
   ]
  },
  {
   "cell_type": "code",
   "execution_count": null,
   "metadata": {},
   "outputs": [],
   "source": []
  }
 ],
 "metadata": {
  "kernelspec": {
   "display_name": "Python 3",
   "language": "python",
   "name": "python3"
  },
  "language_info": {
   "codemirror_mode": {
    "name": "ipython",
    "version": 3
   },
   "file_extension": ".py",
   "mimetype": "text/x-python",
   "name": "python",
   "nbconvert_exporter": "python",
   "pygments_lexer": "ipython3",
   "version": "3.8.3"
  }
 },
 "nbformat": 4,
 "nbformat_minor": 4
}
